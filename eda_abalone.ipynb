{
 "cells": [
  {
   "cell_type": "code",
   "execution_count": 138,
   "id": "3324105d-4a39-4132-a003-c874e51cad77",
   "metadata": {},
   "outputs": [],
   "source": [
    "import pandas as pd\n",
    "import numpy as np\n",
    "import matplotlib.pyplot as plt\n",
    "import seaborn as sns"
   ]
  },
  {
   "cell_type": "code",
   "execution_count": 140,
   "id": "5c6a329d-be8e-406b-8516-26fe2f8443a4",
   "metadata": {},
   "outputs": [],
   "source": [
    "df = pd.read_csv('abalone.csv') "
   ]
  },
  {
   "cell_type": "code",
   "execution_count": 142,
   "id": "66e5068c-be99-4595-ab37-46136e5a746d",
   "metadata": {},
   "outputs": [
    {
     "data": {
      "text/html": [
       "<div>\n",
       "<style scoped>\n",
       "    .dataframe tbody tr th:only-of-type {\n",
       "        vertical-align: middle;\n",
       "    }\n",
       "\n",
       "    .dataframe tbody tr th {\n",
       "        vertical-align: top;\n",
       "    }\n",
       "\n",
       "    .dataframe thead th {\n",
       "        text-align: right;\n",
       "    }\n",
       "</style>\n",
       "<table border=\"1\" class=\"dataframe\">\n",
       "  <thead>\n",
       "    <tr style=\"text-align: right;\">\n",
       "      <th></th>\n",
       "      <th>Sex</th>\n",
       "      <th>Length</th>\n",
       "      <th>Diameter</th>\n",
       "      <th>Height</th>\n",
       "      <th>Whole weight</th>\n",
       "      <th>Shucked weight</th>\n",
       "      <th>Viscera weight</th>\n",
       "      <th>Shell weight</th>\n",
       "      <th>Rings</th>\n",
       "    </tr>\n",
       "  </thead>\n",
       "  <tbody>\n",
       "    <tr>\n",
       "      <th>0</th>\n",
       "      <td>M</td>\n",
       "      <td>0.455</td>\n",
       "      <td>0.365</td>\n",
       "      <td>0.095</td>\n",
       "      <td>0.5140</td>\n",
       "      <td>0.2245</td>\n",
       "      <td>0.1010</td>\n",
       "      <td>0.1500</td>\n",
       "      <td>15</td>\n",
       "    </tr>\n",
       "    <tr>\n",
       "      <th>1</th>\n",
       "      <td>M</td>\n",
       "      <td>0.350</td>\n",
       "      <td>0.265</td>\n",
       "      <td>0.090</td>\n",
       "      <td>0.2255</td>\n",
       "      <td>0.0995</td>\n",
       "      <td>0.0485</td>\n",
       "      <td>0.0700</td>\n",
       "      <td>7</td>\n",
       "    </tr>\n",
       "    <tr>\n",
       "      <th>2</th>\n",
       "      <td>F</td>\n",
       "      <td>0.530</td>\n",
       "      <td>0.420</td>\n",
       "      <td>0.135</td>\n",
       "      <td>0.6770</td>\n",
       "      <td>0.2565</td>\n",
       "      <td>0.1415</td>\n",
       "      <td>0.2100</td>\n",
       "      <td>9</td>\n",
       "    </tr>\n",
       "    <tr>\n",
       "      <th>3</th>\n",
       "      <td>M</td>\n",
       "      <td>0.440</td>\n",
       "      <td>0.365</td>\n",
       "      <td>0.125</td>\n",
       "      <td>NaN</td>\n",
       "      <td>0.2155</td>\n",
       "      <td>0.1140</td>\n",
       "      <td>0.1550</td>\n",
       "      <td>10</td>\n",
       "    </tr>\n",
       "    <tr>\n",
       "      <th>4</th>\n",
       "      <td>I</td>\n",
       "      <td>0.330</td>\n",
       "      <td>0.255</td>\n",
       "      <td>0.080</td>\n",
       "      <td>0.2050</td>\n",
       "      <td>0.0895</td>\n",
       "      <td>0.0395</td>\n",
       "      <td>0.0550</td>\n",
       "      <td>7</td>\n",
       "    </tr>\n",
       "    <tr>\n",
       "      <th>...</th>\n",
       "      <td>...</td>\n",
       "      <td>...</td>\n",
       "      <td>...</td>\n",
       "      <td>...</td>\n",
       "      <td>...</td>\n",
       "      <td>...</td>\n",
       "      <td>...</td>\n",
       "      <td>...</td>\n",
       "      <td>...</td>\n",
       "    </tr>\n",
       "    <tr>\n",
       "      <th>4172</th>\n",
       "      <td>F</td>\n",
       "      <td>0.565</td>\n",
       "      <td>0.450</td>\n",
       "      <td>0.165</td>\n",
       "      <td>0.8870</td>\n",
       "      <td>0.3700</td>\n",
       "      <td>0.2390</td>\n",
       "      <td>0.2490</td>\n",
       "      <td>11</td>\n",
       "    </tr>\n",
       "    <tr>\n",
       "      <th>4173</th>\n",
       "      <td>M</td>\n",
       "      <td>0.590</td>\n",
       "      <td>0.440</td>\n",
       "      <td>0.135</td>\n",
       "      <td>0.9660</td>\n",
       "      <td>0.4390</td>\n",
       "      <td>0.2145</td>\n",
       "      <td>0.2605</td>\n",
       "      <td>10</td>\n",
       "    </tr>\n",
       "    <tr>\n",
       "      <th>4174</th>\n",
       "      <td>M</td>\n",
       "      <td>0.600</td>\n",
       "      <td>0.475</td>\n",
       "      <td>0.205</td>\n",
       "      <td>1.1760</td>\n",
       "      <td>0.5255</td>\n",
       "      <td>0.2875</td>\n",
       "      <td>0.3080</td>\n",
       "      <td>9</td>\n",
       "    </tr>\n",
       "    <tr>\n",
       "      <th>4175</th>\n",
       "      <td>F</td>\n",
       "      <td>0.625</td>\n",
       "      <td>0.485</td>\n",
       "      <td>0.150</td>\n",
       "      <td>1.0945</td>\n",
       "      <td>0.5310</td>\n",
       "      <td>0.2610</td>\n",
       "      <td>0.2960</td>\n",
       "      <td>10</td>\n",
       "    </tr>\n",
       "    <tr>\n",
       "      <th>4176</th>\n",
       "      <td>M</td>\n",
       "      <td>0.710</td>\n",
       "      <td>0.555</td>\n",
       "      <td>0.195</td>\n",
       "      <td>1.9485</td>\n",
       "      <td>0.9455</td>\n",
       "      <td>0.3765</td>\n",
       "      <td>0.4950</td>\n",
       "      <td>12</td>\n",
       "    </tr>\n",
       "  </tbody>\n",
       "</table>\n",
       "<p>4177 rows × 9 columns</p>\n",
       "</div>"
      ],
      "text/plain": [
       "     Sex  Length  Diameter  Height  Whole weight  Shucked weight  \\\n",
       "0      M   0.455     0.365   0.095        0.5140          0.2245   \n",
       "1      M   0.350     0.265   0.090        0.2255          0.0995   \n",
       "2      F   0.530     0.420   0.135        0.6770          0.2565   \n",
       "3      M   0.440     0.365   0.125           NaN          0.2155   \n",
       "4      I   0.330     0.255   0.080        0.2050          0.0895   \n",
       "...   ..     ...       ...     ...           ...             ...   \n",
       "4172   F   0.565     0.450   0.165        0.8870          0.3700   \n",
       "4173   M   0.590     0.440   0.135        0.9660          0.4390   \n",
       "4174   M   0.600     0.475   0.205        1.1760          0.5255   \n",
       "4175   F   0.625     0.485   0.150        1.0945          0.5310   \n",
       "4176   M   0.710     0.555   0.195        1.9485          0.9455   \n",
       "\n",
       "      Viscera weight  Shell weight  Rings  \n",
       "0             0.1010        0.1500     15  \n",
       "1             0.0485        0.0700      7  \n",
       "2             0.1415        0.2100      9  \n",
       "3             0.1140        0.1550     10  \n",
       "4             0.0395        0.0550      7  \n",
       "...              ...           ...    ...  \n",
       "4172          0.2390        0.2490     11  \n",
       "4173          0.2145        0.2605     10  \n",
       "4174          0.2875        0.3080      9  \n",
       "4175          0.2610        0.2960     10  \n",
       "4176          0.3765        0.4950     12  \n",
       "\n",
       "[4177 rows x 9 columns]"
      ]
     },
     "execution_count": 142,
     "metadata": {},
     "output_type": "execute_result"
    }
   ],
   "source": [
    "df"
   ]
  },
  {
   "cell_type": "markdown",
   "id": "aacafd9e-f685-4fc9-82e4-acde0ac3ff34",
   "metadata": {},
   "source": [
    "__Описание данных:__\n",
    "\n",
    "Sex - nominal - M, F, and I (infant)                                      \n",
    "(Пол - номинальный - М, Ж и Я (детеныш))\n",
    "\n",
    "Length - continuous - mm - Longest shell measurement                      \n",
    "(Длина - непрерывная - мм - самое длинное измерение раковины)\n",
    "\n",
    "Diameter - continuous - mm - perpendicular to length                      \n",
    "(Диаметр - непрерывный - мм - перпендикулярно длине)\n",
    "\n",
    "Height - continuous - mm - with meat in shell                             \n",
    "(Высота - непрерывная - мм - с мясом в раковине)\n",
    "\n",
    "Whole weight - continuous - grams - whole abalone                         \n",
    "(Весь вес - непрерывный - граммы - целое морское ушко)\n",
    "\n",
    "Shucked weight - continuous - grams - weight of meat                      \n",
    "(Вес очищенного от раковины - непрерывный - граммы - вес мяса)\n",
    "\n",
    "Viscera weight - continuous - grams - gut weight (after bleeding)         \n",
    "(Вес внутренностей - непрерывный - граммы - вес кишечника (после обескровливания))\n",
    "\n",
    "Shell weight - continuous - grams - after being dried                     \n",
    "(Вес раковины - непрерывный - граммы - после сушки)\n",
    "\n",
    "Rings - integer - +1.5 gives the age in years (target)                    \n",
    "(Колечки - целое - +1,5 дает возраст в годах (целевой))"
   ]
  },
  {
   "cell_type": "code",
   "execution_count": 145,
   "id": "9de6eb84-3b9f-4a91-b826-ad8f5a70a66c",
   "metadata": {},
   "outputs": [
    {
     "name": "stdout",
     "output_type": "stream",
     "text": [
      "<class 'pandas.core.frame.DataFrame'>\n",
      "RangeIndex: 4177 entries, 0 to 4176\n",
      "Data columns (total 9 columns):\n",
      " #   Column          Non-Null Count  Dtype  \n",
      "---  ------          --------------  -----  \n",
      " 0   Sex             4177 non-null   object \n",
      " 1   Length          4177 non-null   float64\n",
      " 2   Diameter        4078 non-null   float64\n",
      " 3   Height          4177 non-null   float64\n",
      " 4   Whole weight    4078 non-null   float64\n",
      " 5   Shucked weight  4177 non-null   float64\n",
      " 6   Viscera weight  4177 non-null   float64\n",
      " 7   Shell weight    4127 non-null   float64\n",
      " 8   Rings           4177 non-null   int64  \n",
      "dtypes: float64(7), int64(1), object(1)\n",
      "memory usage: 293.8+ KB\n"
     ]
    }
   ],
   "source": [
    "df.info()"
   ]
  },
  {
   "cell_type": "code",
   "execution_count": 147,
   "id": "d58451d8-e3f7-4e4b-af25-65cf0f399dd8",
   "metadata": {},
   "outputs": [
    {
     "data": {
      "text/plain": [
       "(4177, 9)"
      ]
     },
     "execution_count": 147,
     "metadata": {},
     "output_type": "execute_result"
    }
   ],
   "source": [
    "df.shape"
   ]
  },
  {
   "cell_type": "code",
   "execution_count": 149,
   "id": "36531af6-cabd-44c1-9ad7-4c7daa0709dc",
   "metadata": {},
   "outputs": [
    {
     "data": {
      "text/plain": [
       "Sex                object\n",
       "Length            float64\n",
       "Diameter          float64\n",
       "Height            float64\n",
       "Whole weight      float64\n",
       "Shucked weight    float64\n",
       "Viscera weight    float64\n",
       "Shell weight      float64\n",
       "Rings               int64\n",
       "dtype: object"
      ]
     },
     "execution_count": 149,
     "metadata": {},
     "output_type": "execute_result"
    }
   ],
   "source": [
    "df.dtypes"
   ]
  },
  {
   "cell_type": "code",
   "execution_count": 151,
   "id": "bc3a1d08-b6bc-42da-831b-fe678af14645",
   "metadata": {},
   "outputs": [
    {
     "data": {
      "text/html": [
       "<div>\n",
       "<style scoped>\n",
       "    .dataframe tbody tr th:only-of-type {\n",
       "        vertical-align: middle;\n",
       "    }\n",
       "\n",
       "    .dataframe tbody tr th {\n",
       "        vertical-align: top;\n",
       "    }\n",
       "\n",
       "    .dataframe thead th {\n",
       "        text-align: right;\n",
       "    }\n",
       "</style>\n",
       "<table border=\"1\" class=\"dataframe\">\n",
       "  <thead>\n",
       "    <tr style=\"text-align: right;\">\n",
       "      <th></th>\n",
       "      <th>Length</th>\n",
       "      <th>Diameter</th>\n",
       "      <th>Height</th>\n",
       "      <th>Whole weight</th>\n",
       "      <th>Shucked weight</th>\n",
       "      <th>Viscera weight</th>\n",
       "      <th>Shell weight</th>\n",
       "      <th>Rings</th>\n",
       "    </tr>\n",
       "  </thead>\n",
       "  <tbody>\n",
       "    <tr>\n",
       "      <th>count</th>\n",
       "      <td>4177.000000</td>\n",
       "      <td>4078.000000</td>\n",
       "      <td>4177.000000</td>\n",
       "      <td>4078.000000</td>\n",
       "      <td>4177.000000</td>\n",
       "      <td>4177.000000</td>\n",
       "      <td>4127.000000</td>\n",
       "      <td>4177.000000</td>\n",
       "    </tr>\n",
       "    <tr>\n",
       "      <th>mean</th>\n",
       "      <td>0.523992</td>\n",
       "      <td>0.407840</td>\n",
       "      <td>0.139516</td>\n",
       "      <td>0.827306</td>\n",
       "      <td>0.359367</td>\n",
       "      <td>0.180594</td>\n",
       "      <td>0.239072</td>\n",
       "      <td>9.933684</td>\n",
       "    </tr>\n",
       "    <tr>\n",
       "      <th>std</th>\n",
       "      <td>0.120093</td>\n",
       "      <td>0.099286</td>\n",
       "      <td>0.041827</td>\n",
       "      <td>0.490348</td>\n",
       "      <td>0.221963</td>\n",
       "      <td>0.109614</td>\n",
       "      <td>0.138942</td>\n",
       "      <td>3.224169</td>\n",
       "    </tr>\n",
       "    <tr>\n",
       "      <th>min</th>\n",
       "      <td>0.075000</td>\n",
       "      <td>0.055000</td>\n",
       "      <td>0.000000</td>\n",
       "      <td>0.002000</td>\n",
       "      <td>0.001000</td>\n",
       "      <td>0.000500</td>\n",
       "      <td>0.001500</td>\n",
       "      <td>1.000000</td>\n",
       "    </tr>\n",
       "    <tr>\n",
       "      <th>25%</th>\n",
       "      <td>0.450000</td>\n",
       "      <td>0.350000</td>\n",
       "      <td>0.115000</td>\n",
       "      <td>0.440500</td>\n",
       "      <td>0.186000</td>\n",
       "      <td>0.093500</td>\n",
       "      <td>0.130000</td>\n",
       "      <td>8.000000</td>\n",
       "    </tr>\n",
       "    <tr>\n",
       "      <th>50%</th>\n",
       "      <td>0.545000</td>\n",
       "      <td>0.425000</td>\n",
       "      <td>0.140000</td>\n",
       "      <td>0.798500</td>\n",
       "      <td>0.336000</td>\n",
       "      <td>0.171000</td>\n",
       "      <td>0.235000</td>\n",
       "      <td>9.000000</td>\n",
       "    </tr>\n",
       "    <tr>\n",
       "      <th>75%</th>\n",
       "      <td>0.615000</td>\n",
       "      <td>0.480000</td>\n",
       "      <td>0.165000</td>\n",
       "      <td>1.150875</td>\n",
       "      <td>0.502000</td>\n",
       "      <td>0.253000</td>\n",
       "      <td>0.328250</td>\n",
       "      <td>11.000000</td>\n",
       "    </tr>\n",
       "    <tr>\n",
       "      <th>max</th>\n",
       "      <td>0.815000</td>\n",
       "      <td>0.650000</td>\n",
       "      <td>1.130000</td>\n",
       "      <td>2.825500</td>\n",
       "      <td>1.488000</td>\n",
       "      <td>0.760000</td>\n",
       "      <td>1.005000</td>\n",
       "      <td>29.000000</td>\n",
       "    </tr>\n",
       "  </tbody>\n",
       "</table>\n",
       "</div>"
      ],
      "text/plain": [
       "            Length     Diameter       Height  Whole weight  Shucked weight  \\\n",
       "count  4177.000000  4078.000000  4177.000000   4078.000000     4177.000000   \n",
       "mean      0.523992     0.407840     0.139516      0.827306        0.359367   \n",
       "std       0.120093     0.099286     0.041827      0.490348        0.221963   \n",
       "min       0.075000     0.055000     0.000000      0.002000        0.001000   \n",
       "25%       0.450000     0.350000     0.115000      0.440500        0.186000   \n",
       "50%       0.545000     0.425000     0.140000      0.798500        0.336000   \n",
       "75%       0.615000     0.480000     0.165000      1.150875        0.502000   \n",
       "max       0.815000     0.650000     1.130000      2.825500        1.488000   \n",
       "\n",
       "       Viscera weight  Shell weight        Rings  \n",
       "count     4177.000000   4127.000000  4177.000000  \n",
       "mean         0.180594      0.239072     9.933684  \n",
       "std          0.109614      0.138942     3.224169  \n",
       "min          0.000500      0.001500     1.000000  \n",
       "25%          0.093500      0.130000     8.000000  \n",
       "50%          0.171000      0.235000     9.000000  \n",
       "75%          0.253000      0.328250    11.000000  \n",
       "max          0.760000      1.005000    29.000000  "
      ]
     },
     "execution_count": 151,
     "metadata": {},
     "output_type": "execute_result"
    }
   ],
   "source": [
    "df.describe()"
   ]
  },
  {
   "cell_type": "code",
   "execution_count": 153,
   "id": "42932f9d-3ff5-4318-b1d0-f29b4f27b019",
   "metadata": {},
   "outputs": [
    {
     "data": {
      "text/html": [
       "<div>\n",
       "<style scoped>\n",
       "    .dataframe tbody tr th:only-of-type {\n",
       "        vertical-align: middle;\n",
       "    }\n",
       "\n",
       "    .dataframe tbody tr th {\n",
       "        vertical-align: top;\n",
       "    }\n",
       "\n",
       "    .dataframe thead th {\n",
       "        text-align: right;\n",
       "    }\n",
       "</style>\n",
       "<table border=\"1\" class=\"dataframe\">\n",
       "  <thead>\n",
       "    <tr style=\"text-align: right;\">\n",
       "      <th></th>\n",
       "      <th>Sex</th>\n",
       "    </tr>\n",
       "  </thead>\n",
       "  <tbody>\n",
       "    <tr>\n",
       "      <th>count</th>\n",
       "      <td>4177</td>\n",
       "    </tr>\n",
       "    <tr>\n",
       "      <th>unique</th>\n",
       "      <td>4</td>\n",
       "    </tr>\n",
       "    <tr>\n",
       "      <th>top</th>\n",
       "      <td>M</td>\n",
       "    </tr>\n",
       "    <tr>\n",
       "      <th>freq</th>\n",
       "      <td>1447</td>\n",
       "    </tr>\n",
       "  </tbody>\n",
       "</table>\n",
       "</div>"
      ],
      "text/plain": [
       "         Sex\n",
       "count   4177\n",
       "unique     4\n",
       "top        M\n",
       "freq    1447"
      ]
     },
     "execution_count": 153,
     "metadata": {},
     "output_type": "execute_result"
    }
   ],
   "source": [
    "df.describe(include=object)"
   ]
  },
  {
   "cell_type": "code",
   "execution_count": 155,
   "id": "9d99967c-b17a-4756-bcef-d31461c6f0df",
   "metadata": {},
   "outputs": [
    {
     "data": {
      "text/plain": [
       "array(['M', 'F', 'I', 'f'], dtype=object)"
      ]
     },
     "execution_count": 155,
     "metadata": {},
     "output_type": "execute_result"
    }
   ],
   "source": [
    "df.Sex.unique()"
   ]
  },
  {
   "cell_type": "markdown",
   "id": "97c5ba4f-681b-43cf-a895-b77a257f733e",
   "metadata": {},
   "source": [
    "В описании данных указано три возможных значения для столбца \"Sex\", значит, произошла ошибка при внесении данных. Некоторые строки значения \"F\" занесены с нижним регистром. Сразу исправим это: "
   ]
  },
  {
   "cell_type": "code",
   "execution_count": 158,
   "id": "da5732d6-9a8c-4b35-8929-46ebf1abcfe6",
   "metadata": {},
   "outputs": [
    {
     "name": "stderr",
     "output_type": "stream",
     "text": [
      "C:\\Users\\Алена\\AppData\\Local\\Temp\\ipykernel_1452\\4180780923.py:1: FutureWarning: A value is trying to be set on a copy of a DataFrame or Series through chained assignment using an inplace method.\n",
      "The behavior will change in pandas 3.0. This inplace method will never work because the intermediate object on which we are setting values always behaves as a copy.\n",
      "\n",
      "For example, when doing 'df[col].method(value, inplace=True)', try using 'df.method({col: value}, inplace=True)' or df[col] = df[col].method(value) instead, to perform the operation inplace on the original object.\n",
      "\n",
      "\n",
      "  df['Sex'].replace('f', 'F', inplace=True)\n"
     ]
    }
   ],
   "source": [
    "df['Sex'].replace('f', 'F', inplace=True)"
   ]
  },
  {
   "cell_type": "code",
   "execution_count": 160,
   "id": "fd7c7b72-691b-4130-ba13-e7bc377f1261",
   "metadata": {},
   "outputs": [
    {
     "data": {
      "text/plain": [
       "array(['M', 'F', 'I'], dtype=object)"
      ]
     },
     "execution_count": 160,
     "metadata": {},
     "output_type": "execute_result"
    }
   ],
   "source": [
    "df['Sex'].unique()"
   ]
  },
  {
   "cell_type": "code",
   "execution_count": 162,
   "id": "4cd2ff49-abab-455e-a6a1-3593c6f005f2",
   "metadata": {},
   "outputs": [
    {
     "data": {
      "text/plain": [
       "0"
      ]
     },
     "execution_count": 162,
     "metadata": {},
     "output_type": "execute_result"
    }
   ],
   "source": [
    "df.duplicated().sum()"
   ]
  },
  {
   "cell_type": "markdown",
   "id": "6a5106ae-b121-43ed-802a-ad74ad545601",
   "metadata": {},
   "source": [
    "Дублирующихся строк нет, посмотрим на пропущенные значения:"
   ]
  },
  {
   "cell_type": "code",
   "execution_count": 165,
   "id": "9da212ab-4720-4852-af35-cf26db0520b1",
   "metadata": {},
   "outputs": [
    {
     "data": {
      "text/plain": [
       "Sex               0.000000\n",
       "Length            0.000000\n",
       "Diameter          2.370122\n",
       "Height            0.000000\n",
       "Whole weight      2.370122\n",
       "Shucked weight    0.000000\n",
       "Viscera weight    0.000000\n",
       "Shell weight      1.197031\n",
       "Rings             0.000000\n",
       "dtype: float64"
      ]
     },
     "execution_count": 165,
     "metadata": {},
     "output_type": "execute_result"
    }
   ],
   "source": [
    "df.isnull().mean() * 100"
   ]
  },
  {
   "cell_type": "markdown",
   "id": "11ae8cf5-dabc-4048-bc67-fe8348285a28",
   "metadata": {},
   "source": [
    "Пропущенных значений не так много, поэтому мы можем заменить их медианой."
   ]
  },
  {
   "cell_type": "code",
   "execution_count": 168,
   "id": "aa0f22e4-54b0-43c9-98e7-19363710638f",
   "metadata": {},
   "outputs": [
    {
     "name": "stderr",
     "output_type": "stream",
     "text": [
      "C:\\Users\\Алена\\AppData\\Local\\Temp\\ipykernel_1452\\1091871868.py:2: FutureWarning: A value is trying to be set on a copy of a DataFrame or Series through chained assignment using an inplace method.\n",
      "The behavior will change in pandas 3.0. This inplace method will never work because the intermediate object on which we are setting values always behaves as a copy.\n",
      "\n",
      "For example, when doing 'df[col].method(value, inplace=True)', try using 'df.method({col: value}, inplace=True)' or df[col] = df[col].method(value) instead, to perform the operation inplace on the original object.\n",
      "\n",
      "\n",
      "  df['Diameter'].fillna(Diameter_median, inplace=True)\n"
     ]
    }
   ],
   "source": [
    "Diameter_median = df['Diameter'].median()\n",
    "df['Diameter'].fillna(Diameter_median, inplace=True)"
   ]
  },
  {
   "cell_type": "code",
   "execution_count": 170,
   "id": "56382fcd-6717-4de2-9c7e-a6b07645fca7",
   "metadata": {},
   "outputs": [
    {
     "name": "stderr",
     "output_type": "stream",
     "text": [
      "C:\\Users\\Алена\\AppData\\Local\\Temp\\ipykernel_1452\\3245758924.py:2: FutureWarning: A value is trying to be set on a copy of a DataFrame or Series through chained assignment using an inplace method.\n",
      "The behavior will change in pandas 3.0. This inplace method will never work because the intermediate object on which we are setting values always behaves as a copy.\n",
      "\n",
      "For example, when doing 'df[col].method(value, inplace=True)', try using 'df.method({col: value}, inplace=True)' or df[col] = df[col].method(value) instead, to perform the operation inplace on the original object.\n",
      "\n",
      "\n",
      "  df['Whole weight'].fillna(Whole_weight_median, inplace=True)\n"
     ]
    }
   ],
   "source": [
    "Whole_weight_median = df['Whole weight'].median()\n",
    "df['Whole weight'].fillna(Whole_weight_median, inplace=True)"
   ]
  },
  {
   "cell_type": "code",
   "execution_count": 172,
   "id": "d4ee3e8f-47be-4d2c-a81f-238726825e99",
   "metadata": {},
   "outputs": [
    {
     "name": "stderr",
     "output_type": "stream",
     "text": [
      "C:\\Users\\Алена\\AppData\\Local\\Temp\\ipykernel_1452\\508235628.py:2: FutureWarning: A value is trying to be set on a copy of a DataFrame or Series through chained assignment using an inplace method.\n",
      "The behavior will change in pandas 3.0. This inplace method will never work because the intermediate object on which we are setting values always behaves as a copy.\n",
      "\n",
      "For example, when doing 'df[col].method(value, inplace=True)', try using 'df.method({col: value}, inplace=True)' or df[col] = df[col].method(value) instead, to perform the operation inplace on the original object.\n",
      "\n",
      "\n",
      "  df['Shell weight'].fillna(Shell_weight_median, inplace=True)\n"
     ]
    }
   ],
   "source": [
    "Shell_weight_median = df['Shell weight'].median()\n",
    "df['Shell weight'].fillna(Shell_weight_median, inplace=True)"
   ]
  },
  {
   "cell_type": "code",
   "execution_count": 174,
   "id": "c215fa92-fa1d-4bf0-9c1c-dbecda5bddf6",
   "metadata": {},
   "outputs": [
    {
     "data": {
      "text/plain": [
       "Sex               0\n",
       "Length            0\n",
       "Diameter          0\n",
       "Height            0\n",
       "Whole weight      0\n",
       "Shucked weight    0\n",
       "Viscera weight    0\n",
       "Shell weight      0\n",
       "Rings             0\n",
       "dtype: int64"
      ]
     },
     "execution_count": 174,
     "metadata": {},
     "output_type": "execute_result"
    }
   ],
   "source": [
    "df.isnull().sum()"
   ]
  },
  {
   "cell_type": "markdown",
   "id": "0f86e954-0826-416a-96b0-7ac93c1cd7d7",
   "metadata": {},
   "source": [
    "Мы провели некоторое исследование данных и обработали пропущенные значение, теперь приступим к __однофакторному анализу__: "
   ]
  },
  {
   "cell_type": "markdown",
   "id": "dc3b3aef-5804-4e28-8ed2-1e2e52f336f9",
   "metadata": {},
   "source": [
    "Взглянем на распределения каждого из параметров:"
   ]
  },
  {
   "cell_type": "code",
   "execution_count": 178,
   "id": "a5646e85-0588-4e7d-b95a-fa18b3a963fe",
   "metadata": {},
   "outputs": [
    {
     "data": {
      "text/plain": [
       "array([[<Axes: title={'center': 'Length'}>,\n",
       "        <Axes: title={'center': 'Diameter'}>,\n",
       "        <Axes: title={'center': 'Height'}>],\n",
       "       [<Axes: title={'center': 'Whole weight'}>,\n",
       "        <Axes: title={'center': 'Shucked weight'}>,\n",
       "        <Axes: title={'center': 'Viscera weight'}>],\n",
       "       [<Axes: title={'center': 'Shell weight'}>,\n",
       "        <Axes: title={'center': 'Rings'}>, <Axes: >]], dtype=object)"
      ]
     },
     "execution_count": 178,
     "metadata": {},
     "output_type": "execute_result"
    },
    {
     "data": {
      "image/png": "[encoded data removed]",
      "text/plain": [
       "<Figure size 800x800 with 9 Axes>"
      ]
     },
     "metadata": {},
     "output_type": "display_data"
    }
   ],
   "source": [
    "df.hist(bins=100, figsize=(8,8))"
   ]
  },
  {
   "cell_type": "markdown",
   "id": "20da581c-9def-4c2f-bba4-e6b9e7773a88",
   "metadata": {},
   "source": [
    "Посмотрим на самое легкое, самое тяжелое ушко в нашем датасете:"
   ]
  },
  {
   "cell_type": "code",
   "execution_count": 180,
   "id": "629b5f3b-c540-4aeb-b3be-3c4d45c6d76b",
   "metadata": {},
   "outputs": [
    {
     "data": {
      "text/plain": [
       "(0.002, 2.8255)"
      ]
     },
     "execution_count": 180,
     "metadata": {},
     "output_type": "execute_result"
    }
   ],
   "source": [
    "df['Whole weight'].min(), df['Whole weight'].max()"
   ]
  },
  {
   "cell_type": "code",
   "execution_count": 181,
   "id": "81dc08c1-d872-41e3-941e-b05f00f3f8d9",
   "metadata": {},
   "outputs": [
    {
     "data": {
      "text/plain": [
       "(0.002, 2.8255)"
      ]
     },
     "execution_count": 181,
     "metadata": {},
     "output_type": "execute_result"
    }
   ],
   "source": [
    "df['Whole weight'].min(), df['Whole weight'].max()"
   ]
  },
  {
   "cell_type": "markdown",
   "id": "be722dd2-0788-4946-a17c-bc47c8b41e31",
   "metadata": {},
   "source": [
    "Посмотрим на некоторые параметры в зависимости от пола: "
   ]
  },
  {
   "cell_type": "code",
   "execution_count": 183,
   "id": "fec73d02-e157-4877-9d46-a09c07c84a41",
   "metadata": {},
   "outputs": [
    {
     "data": {
      "text/html": [
       "<div>\n",
       "<style scoped>\n",
       "    .dataframe tbody tr th:only-of-type {\n",
       "        vertical-align: middle;\n",
       "    }\n",
       "\n",
       "    .dataframe tbody tr th {\n",
       "        vertical-align: top;\n",
       "    }\n",
       "\n",
       "    .dataframe thead th {\n",
       "        text-align: right;\n",
       "    }\n",
       "</style>\n",
       "<table border=\"1\" class=\"dataframe\">\n",
       "  <thead>\n",
       "    <tr style=\"text-align: right;\">\n",
       "      <th></th>\n",
       "      <th>Length</th>\n",
       "      <th>Diameter</th>\n",
       "      <th>Height</th>\n",
       "      <th>Whole weight</th>\n",
       "    </tr>\n",
       "    <tr>\n",
       "      <th>Sex</th>\n",
       "      <th></th>\n",
       "      <th></th>\n",
       "      <th></th>\n",
       "      <th></th>\n",
       "    </tr>\n",
       "  </thead>\n",
       "  <tbody>\n",
       "    <tr>\n",
       "      <th>F</th>\n",
       "      <td>0.572978</td>\n",
       "      <td>0.448652</td>\n",
       "      <td>0.155959</td>\n",
       "      <td>1.017649</td>\n",
       "    </tr>\n",
       "    <tr>\n",
       "      <th>I</th>\n",
       "      <td>0.427273</td>\n",
       "      <td>0.328382</td>\n",
       "      <td>0.107931</td>\n",
       "      <td>0.438131</td>\n",
       "    </tr>\n",
       "    <tr>\n",
       "      <th>M</th>\n",
       "      <td>0.560059</td>\n",
       "      <td>0.438072</td>\n",
       "      <td>0.150847</td>\n",
       "      <td>0.977255</td>\n",
       "    </tr>\n",
       "  </tbody>\n",
       "</table>\n",
       "</div>"
      ],
      "text/plain": [
       "       Length  Diameter    Height  Whole weight\n",
       "Sex                                            \n",
       "F    0.572978  0.448652  0.155959      1.017649\n",
       "I    0.427273  0.328382  0.107931      0.438131\n",
       "M    0.560059  0.438072  0.150847      0.977255"
      ]
     },
     "execution_count": 183,
     "metadata": {},
     "output_type": "execute_result"
    }
   ],
   "source": [
    "# Средние значения\n",
    "\n",
    "df.groupby('Sex').agg({'Length':'mean',\n",
    "                     'Diameter':'mean',\n",
    "                     'Height':'mean',\n",
    "                     'Whole weight':'mean'})"
   ]
  },
  {
   "cell_type": "code",
   "execution_count": 184,
   "id": "e531653a-5eb6-48bf-a9d5-ab7aed78a3f9",
   "metadata": {},
   "outputs": [
    {
     "data": {
      "text/html": [
       "<div>\n",
       "<style scoped>\n",
       "    .dataframe tbody tr th:only-of-type {\n",
       "        vertical-align: middle;\n",
       "    }\n",
       "\n",
       "    .dataframe tbody tr th {\n",
       "        vertical-align: top;\n",
       "    }\n",
       "\n",
       "    .dataframe thead th {\n",
       "        text-align: right;\n",
       "    }\n",
       "</style>\n",
       "<table border=\"1\" class=\"dataframe\">\n",
       "  <thead>\n",
       "    <tr style=\"text-align: right;\">\n",
       "      <th></th>\n",
       "      <th>Length</th>\n",
       "      <th>Diameter</th>\n",
       "      <th>Height</th>\n",
       "      <th>Whole weight</th>\n",
       "    </tr>\n",
       "    <tr>\n",
       "      <th>Sex</th>\n",
       "      <th></th>\n",
       "      <th></th>\n",
       "      <th></th>\n",
       "      <th></th>\n",
       "    </tr>\n",
       "  </thead>\n",
       "  <tbody>\n",
       "    <tr>\n",
       "      <th>F</th>\n",
       "      <td>0.585</td>\n",
       "      <td>0.455</td>\n",
       "      <td>0.155</td>\n",
       "      <td>0.99475</td>\n",
       "    </tr>\n",
       "    <tr>\n",
       "      <th>I</th>\n",
       "      <td>0.435</td>\n",
       "      <td>0.335</td>\n",
       "      <td>0.110</td>\n",
       "      <td>0.39100</td>\n",
       "    </tr>\n",
       "    <tr>\n",
       "      <th>M</th>\n",
       "      <td>0.580</td>\n",
       "      <td>0.455</td>\n",
       "      <td>0.150</td>\n",
       "      <td>0.95500</td>\n",
       "    </tr>\n",
       "  </tbody>\n",
       "</table>\n",
       "</div>"
      ],
      "text/plain": [
       "     Length  Diameter  Height  Whole weight\n",
       "Sex                                        \n",
       "F     0.585     0.455   0.155       0.99475\n",
       "I     0.435     0.335   0.110       0.39100\n",
       "M     0.580     0.455   0.150       0.95500"
      ]
     },
     "execution_count": 184,
     "metadata": {},
     "output_type": "execute_result"
    }
   ],
   "source": [
    "# Медианные значения\n",
    "\n",
    "df.groupby('Sex').agg({'Length':'median',\n",
    "                     'Diameter':'median',\n",
    "                     'Height':'median',\n",
    "                     'Whole weight':'median'})"
   ]
  },
  {
   "cell_type": "markdown",
   "id": "5a1b8418-f884-4e85-b21e-6392346043b2",
   "metadata": {},
   "source": [
    "Как мы видим, у взрослых особей (F и M) общий вес имеет сильное отличие от детенышей, хотя такие параметры как длина и диаметр в среднем схожи."
   ]
  },
  {
   "cell_type": "code",
   "execution_count": 191,
   "id": "d9eb79c4-4147-4b5b-b90e-3ad611fd52b2",
   "metadata": {},
   "outputs": [
    {
     "data": {
      "text/html": [
       "<div>\n",
       "<style scoped>\n",
       "    .dataframe tbody tr th:only-of-type {\n",
       "        vertical-align: middle;\n",
       "    }\n",
       "\n",
       "    .dataframe tbody tr th {\n",
       "        vertical-align: top;\n",
       "    }\n",
       "\n",
       "    .dataframe thead th {\n",
       "        text-align: right;\n",
       "    }\n",
       "</style>\n",
       "<table border=\"1\" class=\"dataframe\">\n",
       "  <thead>\n",
       "    <tr style=\"text-align: right;\">\n",
       "      <th></th>\n",
       "      <th>MaxRings</th>\n",
       "      <th>MinRings</th>\n",
       "      <th>MeanRing</th>\n",
       "    </tr>\n",
       "    <tr>\n",
       "      <th>Sex</th>\n",
       "      <th></th>\n",
       "      <th></th>\n",
       "      <th></th>\n",
       "    </tr>\n",
       "  </thead>\n",
       "  <tbody>\n",
       "    <tr>\n",
       "      <th>F</th>\n",
       "      <td>29</td>\n",
       "      <td>3</td>\n",
       "      <td>11.001376</td>\n",
       "    </tr>\n",
       "    <tr>\n",
       "      <th>I</th>\n",
       "      <td>21</td>\n",
       "      <td>1</td>\n",
       "      <td>7.872257</td>\n",
       "    </tr>\n",
       "    <tr>\n",
       "      <th>M</th>\n",
       "      <td>27</td>\n",
       "      <td>3</td>\n",
       "      <td>10.678645</td>\n",
       "    </tr>\n",
       "  </tbody>\n",
       "</table>\n",
       "</div>"
      ],
      "text/plain": [
       "     MaxRings  MinRings   MeanRing\n",
       "Sex                               \n",
       "F          29         3  11.001376\n",
       "I          21         1   7.872257\n",
       "M          27         3  10.678645"
      ]
     },
     "execution_count": 191,
     "metadata": {},
     "output_type": "execute_result"
    }
   ],
   "source": [
    "df.groupby('Sex').agg(MaxRings=('Rings','max'),\n",
    "                     MinRings=('Rings', 'min'),\n",
    "                     MeanRing=('Rings', 'mean'))"
   ]
  },
  {
   "cell_type": "markdown",
   "id": "5c822384-b93c-46b3-9b0c-4dda20c96a1c",
   "metadata": {},
   "source": [
    "Построим матрицу корреляций, чтобы посмотреть какие параметры влияют больше всего на возраст:"
   ]
  },
  {
   "cell_type": "code",
   "execution_count": 194,
   "id": "3e8c402b-9478-4f4f-b17e-05a9a5fd9875",
   "metadata": {},
   "outputs": [
    {
     "data": {
      "text/plain": [
       "<Axes: >"
      ]
     },
     "execution_count": 194,
     "metadata": {},
     "output_type": "execute_result"
    },
    {
     "data": {
      "image/png": "[encoded data removed]",
      "text/plain": [
       "<Figure size 640x480 with 2 Axes>"
      ]
     },
     "metadata": {},
     "output_type": "display_data"
    }
   ],
   "source": [
    "corr = df.corr(numeric_only=True)\n",
    "\n",
    "sns.heatmap(corr, cmap=\"Blues\", annot=True)"
   ]
  },
  {
   "cell_type": "markdown",
   "id": "dcdbb892-5aa6-4774-b38c-fe196264dede",
   "metadata": {},
   "source": [
    "Наиболее сильная корелляция по отношению к возрасту у нас с параметром Shell weight (Вес раковины), построим для этого параметра scatter-plot:"
   ]
  },
  {
   "cell_type": "code",
   "execution_count": 197,
   "id": "b493a5c0-ba33-466b-8aea-236513dec776",
   "metadata": {},
   "outputs": [
    {
     "data": {
      "text/plain": [
       "<matplotlib.collections.PathCollection at 0x1f82d756870>"
      ]
     },
     "execution_count": 197,
     "metadata": {},
     "output_type": "execute_result"
    },
    {
     "data": {
      "image/png": "[encoded data removed]",
      "text/plain": [
       "<Figure size 640x480 with 1 Axes>"
      ]
     },
     "metadata": {},
     "output_type": "display_data"
    }
   ],
   "source": [
    "plt.scatter(df['Shell weight'], df.Rings)"
   ]
  },
  {
   "cell_type": "markdown",
   "id": "b8357eeb-26af-4101-a0a6-c1cf1f86fe7c",
   "metadata": {},
   "source": [
    "Взглянем на другие параметры - такие как длина, диаметр, высота:"
   ]
  },
  {
   "cell_type": "code",
   "execution_count": 200,
   "id": "5d25f067-068e-4fca-987a-956946d457f7",
   "metadata": {},
   "outputs": [
    {
     "data": {
      "image/png": "[encoded data removed]",
      "text/plain": [
       "<Figure size 640x480 with 1 Axes>"
      ]
     },
     "metadata": {},
     "output_type": "display_data"
    }
   ],
   "source": [
    "plt.scatter(df['Length'], df.Rings);\n",
    "plt.scatter(df['Diameter'], df.Rings);\n",
    "plt.scatter(df['Height'], df.Rings);"
   ]
  },
  {
   "cell_type": "markdown",
   "id": "5044e973-4193-4666-bd4a-b0001e96a6c0",
   "metadata": {},
   "source": [
    "Построим корреляцию Спирмена:"
   ]
  },
  {
   "cell_type": "code",
   "execution_count": 203,
   "id": "13714983-b03f-4f03-b85e-0e448a314345",
   "metadata": {},
   "outputs": [
    {
     "data": {
      "text/plain": [
       "<Axes: >"
      ]
     },
     "execution_count": 203,
     "metadata": {},
     "output_type": "execute_result"
    },
    {
     "data": {
      "image/png": "[encoded data removed]",
      "text/plain": [
       "<Figure size 640x480 with 2 Axes>"
      ]
     },
     "metadata": {},
     "output_type": "display_data"
    }
   ],
   "source": [
    "corr = df.corr(method='spearman', numeric_only=True)\n",
    "\n",
    "sns.heatmap(corr, cmap=\"Blues\", annot=True)"
   ]
  },
  {
   "cell_type": "markdown",
   "id": "cf78a38f-d23d-4671-9512-bbbf7e27cd06",
   "metadata": {},
   "source": [
    "У нас есть всего один категориальный параметр, поэтому мы не можем оценить v-меру Крамера. Проведем метод ANOVA:"
   ]
  },
  {
   "cell_type": "code",
   "execution_count": 206,
   "id": "497f5c5e-c6e8-4c9f-870d-101cbbdf8ea1",
   "metadata": {},
   "outputs": [
    {
     "data": {
      "text/html": [
       "<div>\n",
       "<style scoped>\n",
       "    .dataframe tbody tr th:only-of-type {\n",
       "        vertical-align: middle;\n",
       "    }\n",
       "\n",
       "    .dataframe tbody tr th {\n",
       "        vertical-align: top;\n",
       "    }\n",
       "\n",
       "    .dataframe thead th {\n",
       "        text-align: right;\n",
       "    }\n",
       "</style>\n",
       "<table border=\"1\" class=\"dataframe\">\n",
       "  <thead>\n",
       "    <tr style=\"text-align: right;\">\n",
       "      <th></th>\n",
       "      <th>Category</th>\n",
       "      <th>Numerical</th>\n",
       "      <th>Is correlated</th>\n",
       "    </tr>\n",
       "  </thead>\n",
       "  <tbody>\n",
       "    <tr>\n",
       "      <th>0</th>\n",
       "      <td>Sex</td>\n",
       "      <td>Length</td>\n",
       "      <td>Yes</td>\n",
       "    </tr>\n",
       "    <tr>\n",
       "      <th>1</th>\n",
       "      <td>Sex</td>\n",
       "      <td>Diameter</td>\n",
       "      <td>Yes</td>\n",
       "    </tr>\n",
       "    <tr>\n",
       "      <th>2</th>\n",
       "      <td>Sex</td>\n",
       "      <td>Height</td>\n",
       "      <td>Yes</td>\n",
       "    </tr>\n",
       "    <tr>\n",
       "      <th>3</th>\n",
       "      <td>Sex</td>\n",
       "      <td>Whole weight</td>\n",
       "      <td>Yes</td>\n",
       "    </tr>\n",
       "    <tr>\n",
       "      <th>4</th>\n",
       "      <td>Sex</td>\n",
       "      <td>Shucked weight</td>\n",
       "      <td>Yes</td>\n",
       "    </tr>\n",
       "    <tr>\n",
       "      <th>5</th>\n",
       "      <td>Sex</td>\n",
       "      <td>Viscera weight</td>\n",
       "      <td>Yes</td>\n",
       "    </tr>\n",
       "    <tr>\n",
       "      <th>6</th>\n",
       "      <td>Sex</td>\n",
       "      <td>Shell weight</td>\n",
       "      <td>Yes</td>\n",
       "    </tr>\n",
       "    <tr>\n",
       "      <th>7</th>\n",
       "      <td>Sex</td>\n",
       "      <td>Rings</td>\n",
       "      <td>Yes</td>\n",
       "    </tr>\n",
       "  </tbody>\n",
       "</table>\n",
       "</div>"
      ],
      "text/plain": [
       "  Category       Numerical Is correlated\n",
       "0      Sex          Length           Yes\n",
       "1      Sex        Diameter           Yes\n",
       "2      Sex          Height           Yes\n",
       "3      Sex    Whole weight           Yes\n",
       "4      Sex  Shucked weight           Yes\n",
       "5      Sex  Viscera weight           Yes\n",
       "6      Sex    Shell weight           Yes\n",
       "7      Sex           Rings           Yes"
      ]
     },
     "execution_count": 206,
     "metadata": {},
     "output_type": "execute_result"
    }
   ],
   "source": [
    "from scipy.stats import f_oneway\n",
    "\n",
    "Data = []\n",
    "\n",
    "for c1 in df.columns:\n",
    "    for c2 in df.columns:\n",
    "        if df[c1].dtype == 'object' and df[c2].dtype != 'object':\n",
    "            CategoryGroupLists = df.groupby(c1)[c2].apply(list)\n",
    "            AnovaResults = f_oneway(*CategoryGroupLists)\n",
    "\n",
    "            if AnovaResults[1] >= 0.05:\n",
    "                Data.append({'Category' : c1, 'Numerical' : c2, 'Is correlated' : 'No'})\n",
    "            else:\n",
    "                Data.append({'Category' : c1, 'Numerical' : c2, 'Is correlated' : 'Yes'})\n",
    "\n",
    "AnovaRes = pd.DataFrame.from_dict(Data)\n",
    "AnovaRes"
   ]
  },
  {
   "cell_type": "markdown",
   "id": "4a3ea6b6-7e31-4f3f-8643-d349a6200560",
   "metadata": {},
   "source": [
    "Как мы видим, наша категориальный признак имеет значимую взаимосвязь с каждым другим признаком."
   ]
  },
  {
   "cell_type": "markdown",
   "id": "51a9dbb4-6876-4cfc-83ca-e349efe363db",
   "metadata": {},
   "source": [
    "Изучим целевую переменную:"
   ]
  },
  {
   "cell_type": "code",
   "execution_count": 210,
   "id": "2fecf45a-3973-412d-a713-e6373f6a6482",
   "metadata": {},
   "outputs": [
    {
     "data": {
      "text/plain": [
       "(1, 29, 9.933684462532918, 9.0)"
      ]
     },
     "execution_count": 210,
     "metadata": {},
     "output_type": "execute_result"
    }
   ],
   "source": [
    "df.Rings.min(), df.Rings.max(), df.Rings.mean(), df.Rings.median()"
   ]
  },
  {
   "cell_type": "code",
   "execution_count": 212,
   "id": "c3b473bc-1f6f-4aad-b7b3-1c8594f2964c",
   "metadata": {},
   "outputs": [
    {
     "data": {
      "text/plain": [
       "364"
      ]
     },
     "execution_count": 212,
     "metadata": {},
     "output_type": "execute_result"
    }
   ],
   "source": [
    "len(df[df.Rings>= 15]) # количество ушок возрастом выше 15"
   ]
  },
  {
   "cell_type": "code",
   "execution_count": 214,
   "id": "dc39287a-b82d-432b-962f-a9be59089025",
   "metadata": {},
   "outputs": [
    {
     "data": {
      "text/plain": [
       "8.714388316973904"
      ]
     },
     "execution_count": 214,
     "metadata": {},
     "output_type": "execute_result"
    }
   ],
   "source": [
    "100 * len(df[df.Rings>= 15]) / len(df) # процентов ушок, возрастом выше 15"
   ]
  },
  {
   "cell_type": "markdown",
   "id": "996bb656-247c-414e-8541-ad9f4f687eee",
   "metadata": {},
   "source": [
    "Посмотрим на распределение целевой переменной:"
   ]
  },
  {
   "cell_type": "code",
   "execution_count": 217,
   "id": "816ee0b5-4f40-4588-967e-58311d5ac842",
   "metadata": {},
   "outputs": [
    {
     "data": {
      "text/plain": [
       "<Axes: xlabel='Rings', ylabel='Count'>"
      ]
     },
     "execution_count": 217,
     "metadata": {},
     "output_type": "execute_result"
    },
    {
     "data": {
      "image/png": "[encoded data removed]",
      "text/plain": [
       "<Figure size 640x480 with 1 Axes>"
      ]
     },
     "metadata": {},
     "output_type": "display_data"
    }
   ],
   "source": [
    "sns.histplot(data = df['Rings'], kde=True)"
   ]
  },
  {
   "cell_type": "markdown",
   "id": "322772d5-d5e5-4e06-a4c6-c8da32b8bae6",
   "metadata": {},
   "source": [
    "Распределение похоже на логнормальное. Большая часть значений сосредоточена в малом диапозоне, но при этом есть редкие и сильные выбросы, модель может быть плохо обучена для предсказывания последних.  "
   ]
  },
  {
   "cell_type": "code",
   "execution_count": 220,
   "id": "0076bbe7-e44e-4d00-b090-7770a852ff75",
   "metadata": {},
   "outputs": [],
   "source": [
    "# Проведем сравнение скорости работы библиотек Pandas и Polars на увеличенном датасете: \n",
    "\n",
    "df_big = df.copy()\n",
    "for i in range(250):\n",
    "    df_big = pd.concat([df_big, df])\n",
    "\n",
    "df_big.to_csv('abalone_big.csv', index=False)"
   ]
  },
  {
   "cell_type": "code",
   "execution_count": 221,
   "id": "7f27eada-76de-44b4-8823-4b448a3b60be",
   "metadata": {},
   "outputs": [
    {
     "data": {
      "text/plain": [
       "((1048427, 9), (4177, 9))"
      ]
     },
     "execution_count": 221,
     "metadata": {},
     "output_type": "execute_result"
    }
   ],
   "source": [
    "df_big.shape, df.shape # Теперь в большом датасете у нас есть чуть более миллиона строк"
   ]
  },
  {
   "cell_type": "code",
   "execution_count": 222,
   "id": "095b9926-392b-458c-b9ae-2f3d2deb5018",
   "metadata": {},
   "outputs": [
    {
     "name": "stdout",
     "output_type": "stream",
     "text": [
      "Defaulting to user installation because normal site-packages is not writeable\n",
      "Requirement already satisfied: polars in c:\\users\\алена\\appdata\\roaming\\python\\python312\\site-packages (1.23.0)\n",
      "1.23.0\n"
     ]
    }
   ],
   "source": [
    "!pip install polars\n",
    "\n",
    "import polars as pl\n",
    "\n",
    "print(pl.__version__)"
   ]
  },
  {
   "cell_type": "code",
   "execution_count": 223,
   "id": "87b16af8-e3e3-457d-aa15-1accdd3fab58",
   "metadata": {},
   "outputs": [
    {
     "name": "stdout",
     "output_type": "stream",
     "text": [
      "CPU times: total: 469 ms\n",
      "Wall time: 458 ms\n"
     ]
    }
   ],
   "source": [
    "%%time\n",
    "#Pandas: загрузка данных\n",
    "df_big = pd.read_csv('abalone_big.csv')"
   ]
  },
  {
   "cell_type": "code",
   "execution_count": 224,
   "id": "fc02c789-d7bb-484e-a083-81f0f90c9347",
   "metadata": {},
   "outputs": [
    {
     "name": "stdout",
     "output_type": "stream",
     "text": [
      "CPU times: total: 359 ms\n",
      "Wall time: 49.6 ms\n"
     ]
    }
   ],
   "source": [
    "%%time\n",
    "#Polars: загрузка данных\n",
    "df_pl = pl.read_csv('abalone_big.csv')"
   ]
  },
  {
   "cell_type": "code",
   "execution_count": 225,
   "id": "d94d7609-731e-4166-a2bc-4fea1d1efb83",
   "metadata": {},
   "outputs": [
    {
     "name": "stdout",
     "output_type": "stream",
     "text": [
      "CPU times: total: 15.6 ms\n",
      "Wall time: 18 ms\n"
     ]
    },
    {
     "data": {
      "text/html": [
       "<div>\n",
       "<style scoped>\n",
       "    .dataframe tbody tr th:only-of-type {\n",
       "        vertical-align: middle;\n",
       "    }\n",
       "\n",
       "    .dataframe tbody tr th {\n",
       "        vertical-align: top;\n",
       "    }\n",
       "\n",
       "    .dataframe thead th {\n",
       "        text-align: right;\n",
       "    }\n",
       "</style>\n",
       "<table border=\"1\" class=\"dataframe\">\n",
       "  <thead>\n",
       "    <tr style=\"text-align: right;\">\n",
       "      <th></th>\n",
       "      <th>Sex</th>\n",
       "      <th>Length</th>\n",
       "      <th>Diameter</th>\n",
       "      <th>Height</th>\n",
       "      <th>Whole weight</th>\n",
       "      <th>Shucked weight</th>\n",
       "      <th>Viscera weight</th>\n",
       "      <th>Shell weight</th>\n",
       "      <th>Rings</th>\n",
       "    </tr>\n",
       "  </thead>\n",
       "  <tbody>\n",
       "    <tr>\n",
       "      <th>0</th>\n",
       "      <td>M</td>\n",
       "      <td>0.455</td>\n",
       "      <td>0.365</td>\n",
       "      <td>0.095</td>\n",
       "      <td>0.5140</td>\n",
       "      <td>0.2245</td>\n",
       "      <td>0.1010</td>\n",
       "      <td>0.150</td>\n",
       "      <td>15</td>\n",
       "    </tr>\n",
       "    <tr>\n",
       "      <th>6</th>\n",
       "      <td>F</td>\n",
       "      <td>0.530</td>\n",
       "      <td>0.415</td>\n",
       "      <td>0.150</td>\n",
       "      <td>0.7775</td>\n",
       "      <td>0.2370</td>\n",
       "      <td>0.1415</td>\n",
       "      <td>0.330</td>\n",
       "      <td>20</td>\n",
       "    </tr>\n",
       "    <tr>\n",
       "      <th>7</th>\n",
       "      <td>F</td>\n",
       "      <td>0.545</td>\n",
       "      <td>0.425</td>\n",
       "      <td>0.125</td>\n",
       "      <td>0.7680</td>\n",
       "      <td>0.2940</td>\n",
       "      <td>0.1495</td>\n",
       "      <td>0.260</td>\n",
       "      <td>16</td>\n",
       "    </tr>\n",
       "    <tr>\n",
       "      <th>9</th>\n",
       "      <td>F</td>\n",
       "      <td>0.550</td>\n",
       "      <td>0.440</td>\n",
       "      <td>0.150</td>\n",
       "      <td>0.8945</td>\n",
       "      <td>0.3145</td>\n",
       "      <td>0.1510</td>\n",
       "      <td>0.320</td>\n",
       "      <td>19</td>\n",
       "    </tr>\n",
       "    <tr>\n",
       "      <th>28</th>\n",
       "      <td>M</td>\n",
       "      <td>0.605</td>\n",
       "      <td>0.475</td>\n",
       "      <td>0.180</td>\n",
       "      <td>0.9365</td>\n",
       "      <td>0.3940</td>\n",
       "      <td>0.2190</td>\n",
       "      <td>0.295</td>\n",
       "      <td>15</td>\n",
       "    </tr>\n",
       "    <tr>\n",
       "      <th>...</th>\n",
       "      <td>...</td>\n",
       "      <td>...</td>\n",
       "      <td>...</td>\n",
       "      <td>...</td>\n",
       "      <td>...</td>\n",
       "      <td>...</td>\n",
       "      <td>...</td>\n",
       "      <td>...</td>\n",
       "      <td>...</td>\n",
       "    </tr>\n",
       "    <tr>\n",
       "      <th>1048180</th>\n",
       "      <td>F</td>\n",
       "      <td>0.670</td>\n",
       "      <td>0.535</td>\n",
       "      <td>0.185</td>\n",
       "      <td>1.5970</td>\n",
       "      <td>0.6275</td>\n",
       "      <td>0.3500</td>\n",
       "      <td>0.470</td>\n",
       "      <td>21</td>\n",
       "    </tr>\n",
       "    <tr>\n",
       "      <th>1048181</th>\n",
       "      <td>I</td>\n",
       "      <td>0.550</td>\n",
       "      <td>0.440</td>\n",
       "      <td>0.165</td>\n",
       "      <td>0.8605</td>\n",
       "      <td>0.3120</td>\n",
       "      <td>0.1690</td>\n",
       "      <td>0.300</td>\n",
       "      <td>17</td>\n",
       "    </tr>\n",
       "    <tr>\n",
       "      <th>1048191</th>\n",
       "      <td>F</td>\n",
       "      <td>0.540</td>\n",
       "      <td>0.440</td>\n",
       "      <td>0.160</td>\n",
       "      <td>1.0905</td>\n",
       "      <td>0.3910</td>\n",
       "      <td>0.2295</td>\n",
       "      <td>0.355</td>\n",
       "      <td>15</td>\n",
       "    </tr>\n",
       "    <tr>\n",
       "      <th>1048194</th>\n",
       "      <td>M</td>\n",
       "      <td>0.550</td>\n",
       "      <td>0.440</td>\n",
       "      <td>0.160</td>\n",
       "      <td>0.9910</td>\n",
       "      <td>0.3480</td>\n",
       "      <td>0.1680</td>\n",
       "      <td>0.375</td>\n",
       "      <td>20</td>\n",
       "    </tr>\n",
       "    <tr>\n",
       "      <th>1048197</th>\n",
       "      <td>M</td>\n",
       "      <td>0.475</td>\n",
       "      <td>0.365</td>\n",
       "      <td>0.140</td>\n",
       "      <td>0.6175</td>\n",
       "      <td>0.2020</td>\n",
       "      <td>0.1445</td>\n",
       "      <td>0.190</td>\n",
       "      <td>16</td>\n",
       "    </tr>\n",
       "  </tbody>\n",
       "</table>\n",
       "<p>91364 rows × 9 columns</p>\n",
       "</div>"
      ],
      "text/plain": [
       "        Sex  Length  Diameter  Height  Whole weight  Shucked weight  \\\n",
       "0         M   0.455     0.365   0.095        0.5140          0.2245   \n",
       "6         F   0.530     0.415   0.150        0.7775          0.2370   \n",
       "7         F   0.545     0.425   0.125        0.7680          0.2940   \n",
       "9         F   0.550     0.440   0.150        0.8945          0.3145   \n",
       "28        M   0.605     0.475   0.180        0.9365          0.3940   \n",
       "...      ..     ...       ...     ...           ...             ...   \n",
       "1048180   F   0.670     0.535   0.185        1.5970          0.6275   \n",
       "1048181   I   0.550     0.440   0.165        0.8605          0.3120   \n",
       "1048191   F   0.540     0.440   0.160        1.0905          0.3910   \n",
       "1048194   M   0.550     0.440   0.160        0.9910          0.3480   \n",
       "1048197   M   0.475     0.365   0.140        0.6175          0.2020   \n",
       "\n",
       "         Viscera weight  Shell weight  Rings  \n",
       "0                0.1010         0.150     15  \n",
       "6                0.1415         0.330     20  \n",
       "7                0.1495         0.260     16  \n",
       "9                0.1510         0.320     19  \n",
       "28               0.2190         0.295     15  \n",
       "...                 ...           ...    ...  \n",
       "1048180          0.3500         0.470     21  \n",
       "1048181          0.1690         0.300     17  \n",
       "1048191          0.2295         0.355     15  \n",
       "1048194          0.1680         0.375     20  \n",
       "1048197          0.1445         0.190     16  \n",
       "\n",
       "[91364 rows x 9 columns]"
      ]
     },
     "execution_count": 225,
     "metadata": {},
     "output_type": "execute_result"
    }
   ],
   "source": [
    "%%time\n",
    "#Pandas: фильтрация\n",
    "\n",
    "df_big.query('Rings >= 15')"
   ]
  },
  {
   "cell_type": "code",
   "execution_count": 226,
   "id": "1a9ae0b2-7b22-4744-9eb5-e4703c3bed1d",
   "metadata": {},
   "outputs": [
    {
     "name": "stdout",
     "output_type": "stream",
     "text": [
      "CPU times: total: 15.6 ms\n",
      "Wall time: 5.5 ms\n"
     ]
    },
    {
     "data": {
      "text/html": [
       "<div><style>\n",
       ".dataframe > thead > tr,\n",
       ".dataframe > tbody > tr {\n",
       "  text-align: right;\n",
       "  white-space: pre-wrap;\n",
       "}\n",
       "</style>\n",
       "<small>shape: (65_511, 9)</small><table border=\"1\" class=\"dataframe\"><thead><tr><th>Sex</th><th>Length</th><th>Diameter</th><th>Height</th><th>Whole weight</th><th>Shucked weight</th><th>Viscera weight</th><th>Shell weight</th><th>Rings</th></tr><tr><td>str</td><td>f64</td><td>f64</td><td>f64</td><td>f64</td><td>f64</td><td>f64</td><td>f64</td><td>i64</td></tr></thead><tbody><tr><td>&quot;F&quot;</td><td>0.53</td><td>0.415</td><td>0.15</td><td>0.7775</td><td>0.237</td><td>0.1415</td><td>0.33</td><td>20</td></tr><tr><td>&quot;F&quot;</td><td>0.545</td><td>0.425</td><td>0.125</td><td>0.768</td><td>0.294</td><td>0.1495</td><td>0.26</td><td>16</td></tr><tr><td>&quot;F&quot;</td><td>0.55</td><td>0.44</td><td>0.15</td><td>0.8945</td><td>0.3145</td><td>0.151</td><td>0.32</td><td>19</td></tr><tr><td>&quot;F&quot;</td><td>0.665</td><td>0.525</td><td>0.165</td><td>1.338</td><td>0.5515</td><td>0.3575</td><td>0.35</td><td>18</td></tr><tr><td>&quot;F&quot;</td><td>0.68</td><td>0.55</td><td>0.175</td><td>1.798</td><td>0.815</td><td>0.3925</td><td>0.455</td><td>19</td></tr><tr><td>&hellip;</td><td>&hellip;</td><td>&hellip;</td><td>&hellip;</td><td>&hellip;</td><td>&hellip;</td><td>&hellip;</td><td>&hellip;</td><td>&hellip;</td></tr><tr><td>&quot;F&quot;</td><td>0.65</td><td>0.515</td><td>0.215</td><td>1.498</td><td>0.564</td><td>0.323</td><td>0.425</td><td>16</td></tr><tr><td>&quot;F&quot;</td><td>0.67</td><td>0.535</td><td>0.185</td><td>1.597</td><td>0.6275</td><td>0.35</td><td>0.47</td><td>21</td></tr><tr><td>&quot;I&quot;</td><td>0.55</td><td>0.44</td><td>0.165</td><td>0.8605</td><td>0.312</td><td>0.169</td><td>0.3</td><td>17</td></tr><tr><td>&quot;M&quot;</td><td>0.55</td><td>0.44</td><td>0.16</td><td>0.991</td><td>0.348</td><td>0.168</td><td>0.375</td><td>20</td></tr><tr><td>&quot;M&quot;</td><td>0.475</td><td>0.365</td><td>0.14</td><td>0.6175</td><td>0.202</td><td>0.1445</td><td>0.19</td><td>16</td></tr></tbody></table></div>"
      ],
      "text/plain": [
       "shape: (65_511, 9)\n",
       "┌─────┬────────┬──────────┬────────┬───┬────────────────┬────────────────┬──────────────┬───────┐\n",
       "│ Sex ┆ Length ┆ Diameter ┆ Height ┆ … ┆ Shucked weight ┆ Viscera weight ┆ Shell weight ┆ Rings │\n",
       "│ --- ┆ ---    ┆ ---      ┆ ---    ┆   ┆ ---            ┆ ---            ┆ ---          ┆ ---   │\n",
       "│ str ┆ f64    ┆ f64      ┆ f64    ┆   ┆ f64            ┆ f64            ┆ f64          ┆ i64   │\n",
       "╞═════╪════════╪══════════╪════════╪═══╪════════════════╪════════════════╪══════════════╪═══════╡\n",
       "│ F   ┆ 0.53   ┆ 0.415    ┆ 0.15   ┆ … ┆ 0.237          ┆ 0.1415         ┆ 0.33         ┆ 20    │\n",
       "│ F   ┆ 0.545  ┆ 0.425    ┆ 0.125  ┆ … ┆ 0.294          ┆ 0.1495         ┆ 0.26         ┆ 16    │\n",
       "│ F   ┆ 0.55   ┆ 0.44     ┆ 0.15   ┆ … ┆ 0.3145         ┆ 0.151          ┆ 0.32         ┆ 19    │\n",
       "│ F   ┆ 0.665  ┆ 0.525    ┆ 0.165  ┆ … ┆ 0.5515         ┆ 0.3575         ┆ 0.35         ┆ 18    │\n",
       "│ F   ┆ 0.68   ┆ 0.55     ┆ 0.175  ┆ … ┆ 0.815          ┆ 0.3925         ┆ 0.455        ┆ 19    │\n",
       "│ …   ┆ …      ┆ …        ┆ …      ┆ … ┆ …              ┆ …              ┆ …            ┆ …     │\n",
       "│ F   ┆ 0.65   ┆ 0.515    ┆ 0.215  ┆ … ┆ 0.564          ┆ 0.323          ┆ 0.425        ┆ 16    │\n",
       "│ F   ┆ 0.67   ┆ 0.535    ┆ 0.185  ┆ … ┆ 0.6275         ┆ 0.35           ┆ 0.47         ┆ 21    │\n",
       "│ I   ┆ 0.55   ┆ 0.44     ┆ 0.165  ┆ … ┆ 0.312          ┆ 0.169          ┆ 0.3          ┆ 17    │\n",
       "│ M   ┆ 0.55   ┆ 0.44     ┆ 0.16   ┆ … ┆ 0.348          ┆ 0.168          ┆ 0.375        ┆ 20    │\n",
       "│ M   ┆ 0.475  ┆ 0.365    ┆ 0.14   ┆ … ┆ 0.202          ┆ 0.1445         ┆ 0.19         ┆ 16    │\n",
       "└─────┴────────┴──────────┴────────┴───┴────────────────┴────────────────┴──────────────┴───────┘"
      ]
     },
     "execution_count": 226,
     "metadata": {},
     "output_type": "execute_result"
    }
   ],
   "source": [
    "%%time\n",
    "#Polars: фильтрация\n",
    "\n",
    "df_pl.filter(pl.col('Rings')>15)"
   ]
  },
  {
   "cell_type": "code",
   "execution_count": 227,
   "id": "36176e94-ed53-48c0-b6a9-dba39b8755c9",
   "metadata": {},
   "outputs": [
    {
     "name": "stdout",
     "output_type": "stream",
     "text": [
      "CPU times: total: 46.9 ms\n",
      "Wall time: 45.6 ms\n"
     ]
    },
    {
     "data": {
      "text/html": [
       "<div>\n",
       "<style scoped>\n",
       "    .dataframe tbody tr th:only-of-type {\n",
       "        vertical-align: middle;\n",
       "    }\n",
       "\n",
       "    .dataframe tbody tr th {\n",
       "        vertical-align: top;\n",
       "    }\n",
       "\n",
       "    .dataframe thead th {\n",
       "        text-align: right;\n",
       "    }\n",
       "</style>\n",
       "<table border=\"1\" class=\"dataframe\">\n",
       "  <thead>\n",
       "    <tr style=\"text-align: right;\">\n",
       "      <th></th>\n",
       "      <th>Rings</th>\n",
       "    </tr>\n",
       "    <tr>\n",
       "      <th>Sex</th>\n",
       "      <th></th>\n",
       "    </tr>\n",
       "  </thead>\n",
       "  <tbody>\n",
       "    <tr>\n",
       "      <th>F</th>\n",
       "      <td>11.001376</td>\n",
       "    </tr>\n",
       "    <tr>\n",
       "      <th>I</th>\n",
       "      <td>7.872257</td>\n",
       "    </tr>\n",
       "    <tr>\n",
       "      <th>M</th>\n",
       "      <td>10.678645</td>\n",
       "    </tr>\n",
       "  </tbody>\n",
       "</table>\n",
       "</div>"
      ],
      "text/plain": [
       "         Rings\n",
       "Sex           \n",
       "F    11.001376\n",
       "I     7.872257\n",
       "M    10.678645"
      ]
     },
     "execution_count": 227,
     "metadata": {},
     "output_type": "execute_result"
    }
   ],
   "source": [
    "%%time\n",
    "#Pandas: агрегация\n",
    "\n",
    "df_big.groupby('Sex').agg({'Rings':'mean'})"
   ]
  },
  {
   "cell_type": "code",
   "execution_count": 228,
   "id": "8acde754-a92d-41e6-8b0b-f0bf370d6b96",
   "metadata": {},
   "outputs": [
    {
     "name": "stdout",
     "output_type": "stream",
     "text": [
      "CPU times: total: 93.8 ms\n",
      "Wall time: 20.9 ms\n"
     ]
    },
    {
     "data": {
      "text/html": [
       "<div><style>\n",
       ".dataframe > thead > tr,\n",
       ".dataframe > tbody > tr {\n",
       "  text-align: right;\n",
       "  white-space: pre-wrap;\n",
       "}\n",
       "</style>\n",
       "<small>shape: (3, 2)</small><table border=\"1\" class=\"dataframe\"><thead><tr><th>Sex</th><th>Rings</th></tr><tr><td>str</td><td>f64</td></tr></thead><tbody><tr><td>&quot;M&quot;</td><td>10.678645</td></tr><tr><td>&quot;I&quot;</td><td>7.872257</td></tr><tr><td>&quot;F&quot;</td><td>11.001376</td></tr></tbody></table></div>"
      ],
      "text/plain": [
       "shape: (3, 2)\n",
       "┌─────┬───────────┐\n",
       "│ Sex ┆ Rings     │\n",
       "│ --- ┆ ---       │\n",
       "│ str ┆ f64       │\n",
       "╞═════╪═══════════╡\n",
       "│ M   ┆ 10.678645 │\n",
       "│ I   ┆ 7.872257  │\n",
       "│ F   ┆ 11.001376 │\n",
       "└─────┴───────────┘"
      ]
     },
     "execution_count": 228,
     "metadata": {},
     "output_type": "execute_result"
    }
   ],
   "source": [
    "%%time\n",
    "#Polars: агрегация\n",
    "\n",
    "df_pl.group_by('Sex').agg([pl.mean('Rings')])"
   ]
  },
  {
   "cell_type": "markdown",
   "id": "a5314942-9be9-460e-9382-4aa700c9be01",
   "metadata": {},
   "source": [
    "Как мы видим, Polars имеет преимущества перед Pandas."
   ]
  },
  {
   "cell_type": "code",
   "execution_count": null,
   "id": "8a5a4503-1def-4e4b-8afa-004712d5df61",
   "metadata": {},
   "outputs": [],
   "source": []
  },
  {
   "cell_type": "code",
   "execution_count": null,
   "id": "d80a8ea0-be56-46b4-a7b2-7eb56ea8c446",
   "metadata": {},
   "outputs": [],
   "source": []
  }
 ],
 "metadata": {
  "kernelspec": {
   "display_name": "Python [conda env:base] *",
   "language": "python",
   "name": "conda-base-py"
  },
  "language_info": {
   "codemirror_mode": {
    "name": "ipython",
    "version": 3
   },
   "file_extension": ".py",
   "mimetype": "text/x-python",
   "name": "python",
   "nbconvert_exporter": "python",
   "pygments_lexer": "ipython3",
   "version": "3.12.7"
  }
 },
 "nbformat": 4,
 "nbformat_minor": 5
}
